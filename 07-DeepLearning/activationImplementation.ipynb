{
 "cells": [
  {
   "cell_type": "markdown",
   "metadata": {},
   "source": [
    "## Neural Network Activation Function Numpy Implementation"
   ]
  },
  {
   "cell_type": "code",
   "execution_count": 11,
   "metadata": {},
   "outputs": [],
   "source": [
    "import numpy as np\n",
    "import matplotlib.pyplot as plt"
   ]
  },
  {
   "cell_type": "markdown",
   "metadata": {},
   "source": [
    "In this tutorial I will implement 6 activation functions used in Neural Networks.\n",
    "The activations are as follows:\n",
    "    1. Sigmoid Activation\n",
    "    2. Softmax Activation\n",
    "    3. Tanh Activation\n",
    "    4. ReLU Activation\n",
    "    5. LeakyReLU Activation\n",
    "    6. ELU Activation\n",
    " \n",
    " For each activation function I will do the following:\n",
    "     1. Function Definition\n",
    "     2. Numpy Implementation.\n",
    "     3. Graphical Representation on the function using matplotlib package.\n",
    "     4. Features of the activation function\n",
    "     5. Problems with activation function\n",
    "     \n",
    "     "
   ]
  },
  {
   "cell_type": "markdown",
   "metadata": {},
   "source": [
    "## Sigmoid Activation Function"
   ]
  },
  {
   "cell_type": "markdown",
   "metadata": {},
   "source": [
    "Function Definition is as follows: \n",
    "# $f(x) = sigmoid(x) = \\frac {1} {(1+ \\exp^{-x})}$"
   ]
  },
  {
   "cell_type": "code",
   "execution_count": 22,
   "metadata": {},
   "outputs": [
    {
     "name": "stdout",
     "output_type": "stream",
     "text": [
      "[  4.53978687e-05   7.48462275e-05   1.23394576e-04   2.03426978e-04\n",
      "   3.35350130e-04   5.52778637e-04   9.11051194e-04   1.50118226e-03\n",
      "   2.47262316e-03   4.07013772e-03   6.69285092e-03   1.09869426e-02\n",
      "   1.79862100e-02   2.93122308e-02   4.74258732e-02   7.58581800e-02\n",
      "   1.19202922e-01   1.82425524e-01   2.68941421e-01   3.77540669e-01\n",
      "   5.00000000e-01   6.22459331e-01   7.31058579e-01   8.17574476e-01\n",
      "   8.80797078e-01   9.24141820e-01   9.52574127e-01   9.70687769e-01\n",
      "   9.82013790e-01   9.89013057e-01   9.93307149e-01   9.95929862e-01\n",
      "   9.97527377e-01   9.98498818e-01   9.99088949e-01   9.99447221e-01\n",
      "   9.99664650e-01   9.99796573e-01   9.99876605e-01   9.99925154e-01]\n"
     ]
    },
    {
     "data": {
      "image/png": "[encoded data removed]",
      "text/plain": [
       "<matplotlib.figure.Figure at 0xf851ba8>"
      ]
     },
     "metadata": {},
     "output_type": "display_data"
    }
   ],
   "source": [
    "startValue = -10\n",
    "endValue = 10\n",
    "stepSize = 0.5 # Lower the step size steeper the graph\n",
    "\n",
    "def sigmoidFunction(weightVector):\n",
    "    sigWeight = 1/(1+np.exp(-weight))\n",
    "    print sigWeight\n",
    "    return sigWeight\n",
    "\n",
    "def plotSigmoid(weightVector,sigWegiht):\n",
    "    plt.plot(weight,sigWeight)\n",
    "\n",
    "# Defining a weight array using numpy.random function\n",
    "weight = np.arange(startValue,endValue,stepSize)\n",
    "\n",
    "# Convert the weight array to array of sigmoid probabilities \n",
    "sigWeight = sigmoidFunction(weight)\n",
    "\n",
    "plotSigmoid(weight,sigWeight)"
   ]
  },
  {
   "cell_type": "markdown",
   "metadata": {},
   "source": [
    "Features of Sigmoid Function:\n",
    "    1. Squashes numbers between [0,1]\n",
    "    2. Used for binary Classification in the final layer of the NN"
   ]
  },
  {
   "cell_type": "markdown",
   "metadata": {},
   "source": [
    "Problems with Sigmoid Function:\n",
    "    1. Saturation neurons kills the gradients during backpropogration. Consider the weights above 95th and below 5th percentile, the sigmoid of these weights will be near to 1 or 0 respectively which makes the delta very small thus negligible. \n",
    "    2. Sigmoid outputs are not zero centered, which makes the convergence a very slow process using the activation.\n",
    "    3. numpy.exp() is an very expensive process (computationally) compared to the functions used in the other activations"
   ]
  },
  {
   "cell_type": "markdown",
   "metadata": {},
   "source": [
    "## Softmax Activation"
   ]
  },
  {
   "cell_type": "markdown",
   "metadata": {},
   "source": [
    "Function Definition is as follows:\n",
    "\n",
    "## $f(x) = softmax(w) = \\frac {\\displaystyle\\exp^{w_i}}{\\displaystyle\\sum_{i=0}^{y}\\exp^{w_i}}$"
   ]
  },
  {
   "cell_type": "code",
   "execution_count": 56,
   "metadata": {},
   "outputs": [
    {
     "name": "stdout",
     "output_type": "stream",
     "text": [
      "[  3.49657920e-03   3.18392208e-01   3.78367114e-02   2.43855750e-03\n",
      "   1.23805738e-04   9.57931556e-03   5.17589838e-01   1.76524460e-03\n",
      "   9.37628704e-02   1.50148695e-02]\n"
     ]
    },
    {
     "data": {
      "image/png": "[encoded data removed]",
      "text/plain": [
       "<matplotlib.figure.Figure at 0x806e9b0>"
      ]
     },
     "metadata": {},
     "output_type": "display_data"
    }
   ],
   "source": [
    "# Defining weights using random numbers between -10 and 10\n",
    "weight = np.random.uniform(low=1, high=10, size=(10))\n",
    "\n",
    "def softmaxFunction(weightVector):\n",
    "    softmaxWeight = np.exp(weightVector)/np.exp(weightVector).sum()\n",
    "    print softmaxWeight\n",
    "    return softmaxWeight\n",
    "\n",
    "def plotSoftmaxWeight(softmaxWeight,weight):\n",
    "    width = 10\n",
    "    height = 5\n",
    "    plt.figure(figsize = (width,height))\n",
    "    plt.bar(weight,softmaxWeight,width= 0.2,align=\"center\",alpha=1)\n",
    "    \n",
    "softmaxWeight = softmaxFunction(weight)\n",
    "plotSoftmaxWeight(softmaxWeight,weight)"
   ]
  },
  {
   "cell_type": "markdown",
   "metadata": {},
   "source": [
    "Features of Softmax Function:\n",
    "    1. Squashes numbers between [0,1] probabilities\n",
    "    2. Used for multi-label Classification in the final layer of the NN\n",
    "    "
   ]
  },
  {
   "cell_type": "markdown",
   "metadata": {},
   "source": [
    "Problems with Softmax activation:\n",
    "    1. Not zero centered, similar to sigmoid function\n",
    "    2. Uses computionally expensive exp function. \n",
    "\n",
    "Basically, it has all the problems of sigmoid activation as it is just multi-label\n",
    "classification function where sigmoid is a binary classification function."
   ]
  },
  {
   "cell_type": "code",
   "execution_count": null,
   "metadata": {},
   "outputs": [],
   "source": []
  }
 ],
 "metadata": {
  "kernelspec": {
   "display_name": "Python 2",
   "language": "python",
   "name": "python2"
  },
  "language_info": {
   "codemirror_mode": {
    "name": "ipython",
    "version": 2
   },
   "file_extension": ".py",
   "mimetype": "text/x-python",
   "name": "python",
   "nbconvert_exporter": "python",
   "pygments_lexer": "ipython2",
   "version": "2.7.13"
  }
 },
 "nbformat": 4,
 "nbformat_minor": 2
}
